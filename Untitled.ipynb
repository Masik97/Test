{
 "cells": [
  {
   "cell_type": "code",
   "execution_count": 35,
   "metadata": {},
   "outputs": [],
   "source": [
    "import re\n",
    "pattern = '/.*/'\n",
    "prog = re.compile (pattern)"
   ]
  },
  {
   "cell_type": "code",
   "execution_count": 46,
   "metadata": {},
   "outputs": [
    {
     "name": "stdout",
     "output_type": "stream",
     "text": [
      "{'starlife': 13, 'world': 9, 'latest': 2, 'incidents': 6, 'politics': 11, 'business': 5, 'moscow_city': 1, 'head': 3, 'science': 6, 'video': 10, 'sport': 3, 'middleeast': 3, 'economics': 3, 'travel': 1, 'health': 2, 'cis': 4, 'crazy-world': 2, 'auto': 1, 'scitech': 1, 'lifestyle': 2, 'articles': 7, 'finances': 1, 'europe': 1, 'kinomusic': 1}\n"
     ]
    }
   ],
   "source": [
    "with open(r'C:\\Users\\Asus\\Desktop\\Материалы школы\\[supersliv.biz] Материалы школы\\ds3-spring-2018-master\\0. Preparatory week\\0.1. Python\\URLs.txt', 'r') as f:\n",
    "    urls = {}\n",
    "    for line in f:\n",
    "        # убираем символ переноса строки для каждой читаемой строчки\n",
    "        line = line.strip()\n",
    "        if prog.match (line):\n",
    "            line = line.split('/')\n",
    "            urls.setdefault(line[1], 0)\n",
    "            urls[line[1]] += 1\n",
    "print(urls)"
   ]
  },
  {
   "cell_type": "code",
   "execution_count": null,
   "metadata": {},
   "outputs": [],
   "source": []
  }
 ],
 "metadata": {
  "kernelspec": {
   "display_name": "Python 3",
   "language": "python",
   "name": "python3"
  },
  "language_info": {
   "codemirror_mode": {
    "name": "ipython",
    "version": 3
   },
   "file_extension": ".py",
   "mimetype": "text/x-python",
   "name": "python",
   "nbconvert_exporter": "python",
   "pygments_lexer": "ipython3",
   "version": "3.7.6"
  }
 },
 "nbformat": 4,
 "nbformat_minor": 4
}
